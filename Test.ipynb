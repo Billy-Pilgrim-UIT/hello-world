{
  "nbformat": 4,
  "nbformat_minor": 0,
  "metadata": {
    "colab": {
      "name": "Test.ipynb",
      "provenance": [],
      "collapsed_sections": [],
      "mount_file_id": "1RilykrrolhEat_tXdzI9iClxIcSADpWa",
      "authorship_tag": "ABX9TyNjs9ZBd+NMQqEFXbM76djc",
      "include_colab_link": true
    },
    "kernelspec": {
      "name": "python3",
      "display_name": "Python 3"
    },
    "language_info": {
      "name": "python"
    }
  },
  "cells": [
    {
      "cell_type": "markdown",
      "metadata": {
        "id": "view-in-github",
        "colab_type": "text"
      },
      "source": [
        "<a href=\"https://colab.research.google.com/github/Billy-Pilgrim-UIT/hello-world/blob/master/Test.ipynb\" target=\"_parent\"><img src=\"https://colab.research.google.com/assets/colab-badge.svg\" alt=\"Open In Colab\"/></a>"
      ]
    },
    {
      "cell_type": "code",
      "source": [
        "print(\"hello world\")"
      ],
      "metadata": {
        "colab": {
          "base_uri": "https://localhost:8080/"
        },
        "id": "Iks3mJAcQ7Av",
        "outputId": "dd430e88-7da2-4d73-ee53-beb1dfc5d87f"
      },
      "execution_count": 2,
      "outputs": [
        {
          "output_type": "stream",
          "name": "stdout",
          "text": [
            "hello world\n"
          ]
        }
      ]
    },
    {
      "cell_type": "markdown",
      "source": [
        "# Test Title\n",
        "#### With a nice little Subtitle\n",
        "\n",
        "Just some test text - nothing to worry about.\n",
        "\n",
        "It is **NOT** very important.\n",
        "\n",
        "> I am a cool quote.\n",
        "\n",
        "Press the `any key`\n",
        "\n",
        "Here is an amazing program:\n",
        "```\n",
        "for x in 1:100:\n",
        "  print(x)\n",
        "```\n",
        "\n",
        "If you want to search for something just use [Google](https://www.google.com).\n",
        "\n",
        "![google logo](https://www.google.com.au/images/branding/googlelogo/1x/googlelogo_color_272x92dp.png)\n",
        "\n",
        "![suprised cat](https://media.gettyimages.com/photos/scottish-fold-playing-picture-id1127317526?k=20&m=1127317526&s=612x612&w=0&h=ZcUMHRzuPNvD3IzzllRcWeK8mLqSEvgYwZt17pZX5aQ=)\n",
        "\n",
        "\n",
        "### Bullet List \n",
        "\n",
        "- First point\n",
        "- Then the second\n",
        "- Finally the big one. kapow!\n",
        "\n",
        "### Numbered List\n",
        "\n",
        "1. First point\n",
        "2. Then the second\n",
        "3. Finally the big one. kapow!\n",
        "\n",
        "\n",
        "\n",
        "### Indented List\n",
        "\n",
        "- Just making a point like this:\n",
        "  - Hello everyone\n",
        "- And back here again \n",
        "\n",
        "\n",
        "## To Do List\n",
        "- [ ] Complete assignment\n",
        "- [ ] Go shopping\n",
        "- [ ] Put up bed\n",
        "- [x] Sleep\n",
        "- [ ] #739\n",
        "\n",
        "\n",
        "\n",
        "\n",
        "\n",
        "\n",
        "🤮 🏄\n",
        "\n",
        "\n",
        "\n",
        "<br> <br> <br>\n",
        "\n",
        "\n",
        "\n",
        "\n",
        "\n",
        "![frog](/content/drive/MyDrive/Personal/Kinder Photos/EPV_4597.jpg)\n",
        "\n",
        "![frog](/../content/test_images/frog.jpg)\n",
        "\n",
        "\n",
        "\n",
        "/content/test_images/frog.jpg\n",
        "\n",
        "/content/drive/MyDrive/Personal/Kinder Photos/EPV_4597.jpg"
      ],
      "metadata": {
        "id": "eFXbHOCtRDGE"
      }
    },
    {
      "cell_type": "markdown",
      "source": [
        ""
      ],
      "metadata": {
        "id": "pLFyrcjl2_Uj"
      }
    }
  ]
}